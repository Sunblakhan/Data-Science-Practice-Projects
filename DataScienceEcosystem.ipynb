{
 "cells": [
  {
   "cell_type": "markdown",
   "id": "7c6df003-de50-41ff-8213-edce22e2ee57",
   "metadata": {},
   "source": [
    "# Data Science Tools and Ecosystem #"
   ]
  },
  {
   "cell_type": "markdown",
   "id": "4cd3c4cf-e292-4d90-87c5-ed16174b7606",
   "metadata": {},
   "source": [
    "In this notebook, Data Science Tools and Ecosystem are summarized."
   ]
  },
  {
   "cell_type": "markdown",
   "id": "e1dca67c-d36a-4cd0-947e-bae12a8c4373",
   "metadata": {},
   "source": [
    "**Objectives:**"
   ]
  },
  {
   "cell_type": "markdown",
   "id": "b4136ec8-40ad-463b-a12e-6215f5131172",
   "metadata": {},
   "source": [
    "- List popular languages for Data Science\n",
    "- Most popular libraries for Data Science\n",
    "- Most common tools for Data Science"
   ]
  },
  {
   "cell_type": "markdown",
   "id": "9f02ef0f-f375-48bd-af71-7705b20b54e8",
   "metadata": {},
   "source": [
    "Some of the popular languages that Data Scientists use are:"
   ]
  },
  {
   "cell_type": "markdown",
   "id": "5d90c314-c89f-49b1-a46e-52903e4c983b",
   "metadata": {},
   "source": [
    "1. Python\n",
    "2. R\n",
    "3. SQL"
   ]
  },
  {
   "cell_type": "markdown",
   "id": "d294d3db-408c-4b75-9127-7ec009f4d0ce",
   "metadata": {},
   "source": [
    "Some of the commonly used libraries used by Data Scientists include:"
   ]
  },
  {
   "cell_type": "markdown",
   "id": "cabf1608-8109-423f-81e5-bbda3ca1fb99",
   "metadata": {},
   "source": [
    "1. Pandas\n",
    "2. Numpy\n",
    "3. Seaborn\n",
    "4. Tensorflow\n",
    "5. Matplotlib"
   ]
  },
  {
   "cell_type": "markdown",
   "id": "4e534721-0f91-4a41-90f8-b4b15b8bef4e",
   "metadata": {},
   "source": [
    "|Data Science Tools|\n",
    "|------------------|\n",
    "| ApacheStark |\n",
    "| Tensorflow |\n",
    "| Matlab |"
   ]
  },
  {
   "cell_type": "markdown",
   "id": "902ea5f8-0f3f-4cb5-873a-f83e4ab6d14e",
   "metadata": {},
   "source": [
    "### Below are a few examples of evaluating arithmetic expressions in Python ###"
   ]
  },
  {
   "cell_type": "markdown",
   "id": "98e27f2b-5a6d-4fd9-92c3-07fa3c56bff0",
   "metadata": {},
   "source": [
    "This a simple arithmetic expression to mutiply then add integers"
   ]
  },
  {
   "cell_type": "code",
   "execution_count": 1,
   "id": "1c16d865-1925-47be-ac19-b9e5c03861b2",
   "metadata": {
    "tags": []
   },
   "outputs": [
    {
     "data": {
      "text/plain": [
       "17"
      ]
     },
     "execution_count": 1,
     "metadata": {},
     "output_type": "execute_result"
    }
   ],
   "source": [
    "(3*4)+5"
   ]
  },
  {
   "cell_type": "code",
   "execution_count": 7,
   "id": "5ac74d3e-3779-4639-b83d-43d054894886",
   "metadata": {
    "tags": []
   },
   "outputs": [
    {
     "name": "stdout",
     "output_type": "stream",
     "text": [
      "In hours: 3.3333333333333335\n"
     ]
    }
   ],
   "source": [
    "minutes = 200\n",
    "result = minutes / 60\n",
    "print('In hours:', result)\n"
   ]
  },
  {
   "cell_type": "markdown",
   "id": "2c7621f1-845e-414c-965d-301ef21ed9ad",
   "metadata": {},
   "source": [
    "## Author ## "
   ]
  },
  {
   "cell_type": "markdown",
   "id": "a791d4b6-c368-4057-847d-9e2c700e4e05",
   "metadata": {},
   "source": [
    "Sunbla Khan"
   ]
  },
  {
   "cell_type": "code",
   "execution_count": null,
   "id": "cdc35998-43a0-47b0-81fc-cffcf40ecac4",
   "metadata": {},
   "outputs": [],
   "source": []
  }
 ],
 "metadata": {
  "kernelspec": {
   "display_name": "Python",
   "language": "python",
   "name": "conda-env-python-py"
  },
  "language_info": {
   "codemirror_mode": {
    "name": "ipython",
    "version": 3
   },
   "file_extension": ".py",
   "mimetype": "text/x-python",
   "name": "python",
   "nbconvert_exporter": "python",
   "pygments_lexer": "ipython3",
   "version": "3.7.12"
  }
 },
 "nbformat": 4,
 "nbformat_minor": 5
}
